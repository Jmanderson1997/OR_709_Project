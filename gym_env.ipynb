{
 "cells": [
  {
   "cell_type": "code",
   "execution_count": 2,
   "metadata": {},
   "outputs": [
    {
     "name": "stderr",
     "output_type": "stream",
     "text": [
      "C:\\Users\\Jacob_PC\\anaconda3\\lib\\site-packages\\ipykernel\\ipkernel.py:287: DeprecationWarning: `should_run_async` will not call `transform_cell` automatically in the future. Please pass the result to `transformed_cell` argument and any exception that happen during thetransform in `preprocessing_exc_tuple` in IPython 7.17 and above.\n",
      "  and should_run_async(code)\n"
     ]
    }
   ],
   "source": [
    "import gym \n",
    "from gym import wrappers\n",
    "import ptvsd \n",
    "from reimporter import *\n",
    "ptvsd.enable_attach()\n",
    "freeze_modules()"
   ]
  },
  {
   "cell_type": "code",
   "execution_count": 7,
   "metadata": {},
   "outputs": [
    {
     "data": {
      "text/plain": [
       "11"
      ]
     },
     "execution_count": 7,
     "metadata": {},
     "output_type": "execute_result"
    }
   ],
   "source": [
    "%matplotlib inline\n",
    "env = gym.make(\"CartPole-v1\")\n",
    "env = wrappers.RecordVideo(env, \"./gym_results\")\n",
    "env.reset()\n",
    "for i in range(100):\n",
    "    observation, reward, done, info = env.step(env.action_space.sample())\n",
    "    if done:\n",
    "        break\n",
    "env.close()\n",
    "i"
   ]
  },
  {
   "cell_type": "code",
   "execution_count": 1,
   "metadata": {},
   "outputs": [
    {
     "data": {
      "text/html": [
       "\n",
       "    <video alt=\"test\" controls>\n",
       "        <source src=\"gym_results/rl-video-episode-0.mp4\" type=\"video/mp4\">\n",
       "    </video>\n"
      ],
      "text/plain": [
       "<IPython.core.display.HTML object>"
      ]
     },
     "execution_count": 1,
     "metadata": {},
     "output_type": "execute_result"
    }
   ],
   "source": [
    "from IPython.display import HTML\n",
    "\n",
    "HTML(\"\"\"\n",
    "    <video alt=\"test\" controls>\n",
    "        <source src=\"gym_results/rl-video-episode-0.mp4\" type=\"video/mp4\">\n",
    "    </video>\n",
    "\"\"\")"
   ]
  },
  {
   "cell_type": "code",
   "execution_count": 28,
   "metadata": {},
   "outputs": [
    {
     "data": {
      "text/plain": [
       "1"
      ]
     },
     "execution_count": 28,
     "metadata": {},
     "output_type": "execute_result"
    }
   ],
   "source": [
    "env = gym.make(\"CartPole-v1\")\n",
    "state = env.reset()\n",
    "expected_state, _, _, _= env.step(1)"
   ]
  },
  {
   "cell_type": "code",
   "execution_count": 26,
   "metadata": {},
   "outputs": [
    {
     "name": "stdout",
     "output_type": "stream",
     "text": [
      "{'cart_pos': -0.015068688, 'cart_vel': -0.0171919, 'pole_angle': -0.00903145, 'ang_vel': 0.035199013}\n",
      "{'cart_pos': -0.015412526428699494, 'cart_vel': 0.17805839224915535, 'pole_angle': -0.008327470123767854, 'ang_vel': -0.2603196915725406}\n",
      "{'cart_pos': -0.015412526, 'cart_vel': 0.17805839, 'pole_angle': -0.00832747, 'ang_vel': -0.26031968}\n"
     ]
    }
   ],
   "source": [
    "reimport()\n",
    "from sys_dynamic_eq import update_state, create_dict\n",
    "updated_state = update_state(create_dict(state), 1)\n",
    "print(create_dict(state))\n",
    "print(updated_state)\n",
    "print(create_dict(expected_state))\n",
    "\n"
   ]
  },
  {
   "cell_type": "code",
   "execution_count": 33,
   "metadata": {},
   "outputs": [
    {
     "name": "stdout",
     "output_type": "stream",
     "text": [
      "{'cart_pos': 0.0457868920151492, 'cart_vel': 0.3946147462025744, 'pole_angle': 0.020696862815155544, 'ang_vel': -0.5186193212773407}\n",
      "{'cart_pos': 0.04578689, 'cart_vel': 0.39461476, 'pole_angle': 0.020696864, 'ang_vel': -0.5186193}\n"
     ]
    }
   ],
   "source": [
    "state = create_dict(env.reset())\n",
    "for i in range(10): \n",
    "    choice = env.action_space.sample()\n",
    "    expected_state, _, _, _ = env.step(choice)\n",
    "    state = update_state(state, choice)\n",
    "print(state)\n",
    "print(create_dict(expected_state))"
   ]
  },
  {
   "cell_type": "code",
   "execution_count": null,
   "metadata": {},
   "outputs": [],
   "source": []
  }
 ],
 "metadata": {
  "interpreter": {
   "hash": "d9939e8880b3b51e4e6ef280e9ab49d75dc40c750949513a95841b3cae9ace43"
  },
  "kernelspec": {
   "display_name": "Python 3.7.10 ('base')",
   "language": "python",
   "name": "python3"
  },
  "language_info": {
   "codemirror_mode": {
    "name": "ipython",
    "version": 3
   },
   "file_extension": ".py",
   "mimetype": "text/x-python",
   "name": "python",
   "nbconvert_exporter": "python",
   "pygments_lexer": "ipython3",
   "version": "3.7.10"
  },
  "orig_nbformat": 4
 },
 "nbformat": 4,
 "nbformat_minor": 2
}
